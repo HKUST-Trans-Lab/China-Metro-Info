{
 "cells": [
  {
   "cell_type": "code",
   "execution_count": 1,
   "id": "83d51315-d3c2-415a-a45f-77070e7d62ba",
   "metadata": {},
   "outputs": [
    {
     "data": {
      "text/html": [
       "        <script type=\"text/javascript\">\n",
       "        window.PlotlyConfig = {MathJaxConfig: 'local'};\n",
       "        if (window.MathJax && window.MathJax.Hub && window.MathJax.Hub.Config) {window.MathJax.Hub.Config({SVG: {font: \"STIX-Web\"}});}\n",
       "        if (typeof require !== 'undefined') {\n",
       "        require.undef(\"plotly\");\n",
       "        requirejs.config({\n",
       "            paths: {\n",
       "                'plotly': ['https://cdn.plot.ly/plotly-2.29.1.min']\n",
       "            }\n",
       "        });\n",
       "        require(['plotly'], function(Plotly) {\n",
       "            window._Plotly = Plotly;\n",
       "        });\n",
       "        }\n",
       "        </script>\n",
       "        "
      ]
     },
     "metadata": {},
     "output_type": "display_data"
    }
   ],
   "source": [
    "import re\n",
    "import numpy as np\n",
    "import requests\n",
    "import math\n",
    "import time\n",
    "import plotly.offline as py\n",
    "import plotly.graph_objs as go\n",
    "from plotly.offline import init_notebook_mode\n",
    "import json\n",
    "from tqdm import tqdm\n",
    "\n",
    "init_notebook_mode(connected=True)\n",
    "PI = math.pi"
   ]
  },
  {
   "cell_type": "code",
   "execution_count": 8,
   "id": "51f202bd-fafe-461d-85ad-ad18bce07a6e",
   "metadata": {},
   "outputs": [],
   "source": [
    "'''\n",
    "* 根据经纬度信息计算dist，提供了四个不同的计算函数\n",
    "* 计算函数参考：https://www.cnblogs.com/osnosn/p/14505778.html\n",
    "* Vincenty和Haversine两种计算方式，Vincenty的精度更高\n",
    "'''\n",
    "def vincenty(lat1,lon1,lat2,lon2):\n",
    "    '''\n",
    "    计算地球上两点之间的大圆距离的Haversine公式。它是一个地理空间中使用的测地线距离（最短路径）的公式，通常用于计算两个经纬度点之间的距离。\n",
    "    Haversine公式考虑了地球的曲率，因此比简单的平面距离计算要准确。这个公式使用球面三角学，假设地球是一个完美的球体，并给出了从一个点到另一个点的弧长。\n",
    "    '''\n",
    "    a=6378137.0       #vincentyConstantA(WGS84) ##单位:米\n",
    "    b=6356752.3142451 #vincentyConstantB(WGS84) ##单位:米\n",
    "    f=1/298.257223563 #vincentyConstantF(WGS84)\n",
    "    L = math.radians(lon2 - lon1)\n",
    "    U1 = math.atan((1 - f) *math.tan(math.radians(lat1)))\n",
    "    U2 = math.atan((1 - f) *math.tan(math.radians(lat2)))\n",
    "    sinU1 =math.sin(U1)\n",
    "    cosU1 =math.cos(U1)\n",
    "    sinU2 =math.sin(U2)\n",
    "    cosU2 =math.cos(U2)\n",
    "    lambda1 = L\n",
    "    lambdaP = 2 * math.pi\n",
    "    iterLimit = 20\n",
    "\n",
    "    sinLambda = 0.0\n",
    "    cosLambda = 0.0\n",
    "    sinSigma = 0.0\n",
    "    cosSigma = 0.0\n",
    "    sigma = 0.0\n",
    "    alpha = 0.0\n",
    "    cosSqAlpha = 0.0\n",
    "    cos2SigmaM = 0.0\n",
    "    C = 0.0\n",
    "    while (abs(lambda1 - lambdaP) > 1e-12 and --iterLimit > 0) :\n",
    "        sinLambda =math.sin(lambda1)\n",
    "        cosLambda =math.cos(lambda1)\n",
    "        sinSigma = math.sqrt((cosU2 * sinLambda) * (cosU2 * sinLambda) + (cosU1 * sinU2 - sinU1 * cosU2 * cosLambda) * (cosU1 * sinU2 - sinU1 * cosU2 * cosLambda))\n",
    "        if (sinSigma == 0) :\n",
    "            return 0\n",
    "        cosSigma = sinU1 * sinU2 + cosU1 * cosU2 * cosLambda\n",
    "        sigma = math.atan2(sinSigma, cosSigma)\n",
    "        alpha = math.asin(cosU1 * cosU2 * sinLambda / sinSigma)\n",
    "        cosSqAlpha = math.cos(alpha) * math.cos(alpha)\n",
    "        cos2SigmaM = cosSigma - 2 * sinU1 * sinU2 / cosSqAlpha\n",
    "        C = f / 16 * cosSqAlpha * (4 + f * (4 - 3 * cosSqAlpha))\n",
    "        lambdaP = lambda1\n",
    "        lambda1 = L + (1 - C) * f * math.sin(alpha)* (sigma + C * sinSigma * (cos2SigmaM + C * cosSigma * (-1 + 2 * cos2SigmaM * cos2SigmaM)))\n",
    "\n",
    "    if iterLimit == 0 :\n",
    "        return 0.0\n",
    "\n",
    "    uSq = cosSqAlpha * (a * a - b * b) / (b * b)\n",
    "    A = 1 + uSq / 16384 * (4096 + uSq * (-768 + uSq * (320 - 175 * uSq)))\n",
    "    B = uSq / 1024 * (256 + uSq * (-128 + uSq * (74 - 47 * uSq)))\n",
    "    deltaSigma = B * sinSigma * (cos2SigmaM + B / 4 * (cosSigma * (-1 + 2 * cos2SigmaM * cos2SigmaM) - B / 6 * cos2SigmaM * (-3 + 4 * sinSigma * sinSigma) * (-3 + 4 * cos2SigmaM * cos2SigmaM)))\n",
    "    s = b * A * (sigma - deltaSigma)\n",
    "    d = s\n",
    "    return d\n",
    "\n",
    "def haversine(lat1,lng1,lat2,lng2):\n",
    "    '''\n",
    "    使用Haversine公式计算地球上两点之间距离的Python函数。这个函数接受四个参数：两个点的纬度（lat1, lat2）和经度（lng1, lng2）。函数的返回值是两点之间的距离，单位是米，并且结果四舍五入到十分之一米。\n",
    "    Haversine公式是一个用于计算球面上两点之间最短距离的公式，假设球体是一个完美的圆球。在这个函数中，地球的半径被设置为6378.137千米，这是地球的平均半径。\n",
    "    '''\n",
    "    RR = 6378.137 #为地球赤道半径，单位:千米\n",
    "    lng1, lat1, lng2, lat2 = map(math.radians, [float(lng1), float(lat1), float(lng2), float(lat2)]) # 经纬度转换成弧度\n",
    "    dlon=lng2-lng1\n",
    "    dlat=lat2-lat1\n",
    "    a=math.sin(dlat/2)**2 + math.cos(lat1) * math.cos(lat2) * math.sin(dlon/2)**2\n",
    "    distance=2*math.asin(math.sqrt(a))*RR*1000\n",
    "    distance=round(distance,1)\n",
    "    \n",
    "    return distance\n",
    "\n",
    "def LL2Dist(Lat1,Lng1,Lat2,Lng2):\n",
    "    '''\n",
    "    用于计算地球上两点之间距离的Python函数，这个函数考虑了地球的椭球形状。这个算法是一个修正的Haversine公式，它使用地球的赤道半径和极半径来更准确地计算椭球体上的距离。\n",
    "    函数LL2Dist接受四个参数：两个点的纬度（Lat1, Lat2）和经度（Lng1, Lng2）。函数的返回值是两点之间的距离，单位是米。\n",
    "    '''\n",
    "    ra = 6378137.0        # radius of equator: meter\n",
    "    rb = 6356752.3142451  # radius of polar: meter\n",
    "    flatten = (ra - rb) / ra  # Partial rate of the earth\n",
    "    if Lat1==Lat2 and Lng1==Lng2:\n",
    "        return 0\n",
    "    # change angle to radians\n",
    "    radLatA = math.radians(Lat1)\n",
    "    radLonA = math.radians(Lng1)\n",
    "    radLatB = math.radians(Lat2)\n",
    "    radLonB = math.radians(Lng2)\n",
    "\n",
    "    pA = math.atan(rb / ra * math.tan(radLatA))\n",
    "    pB = math.atan(rb / ra * math.tan(radLatB))\n",
    "    x = math.acos(math.sin(pA) * math.sin(pB) + math.cos(pA) * math.cos(pB) * math.cos(radLonA - radLonB))\n",
    "    c1 = (math.sin(x) - x) * (math.sin(pA) + math.sin(pB))**2 / math.cos(x / 2)**2\n",
    "    c2 = (math.sin(x) + x) * (math.sin(pA) - math.sin(pB))**2 / math.sin(x / 2)**2\n",
    "    dr = flatten / 8 * (c1 - c2)\n",
    "    distance = ra * (x + dr)\n",
    "    \n",
    "    return distance\n",
    "\n",
    "def FlatternDist(lat1,lng1,lat2,lng2):\n",
    "    '''\n",
    "    用于计算地球上两点之间距离的Python函数，这个函数也考虑了地球的椭球形状。这个算法是一个简化的Vincenty公式，它是一种更精确的地理距离计算方法，尤其是在计算长距离时。\n",
    "    函数FlatternDist接受四个参数：两个点的纬度（lat1, lat2）和经度（lng1, lng2）。函数的返回值是两点之间的距离，单位是米。\n",
    "    '''\n",
    "    ra = 6378137.0        # radius of equator: meter\n",
    "    #rb = 6356752.3142451  # radius of polar: meter\n",
    "    flatten=1/298.257223563 #vincentyConstantF(WGS84)\n",
    "    #flatten = (ra - rb) / ra  # Partial rate of the earth\n",
    "    if lat1==lat2 and lng1==lng2:\n",
    "        return 0\n",
    "    # change angle to radians\n",
    "    f = math.radians((lat1+lat2)/2)\n",
    "    g = math.radians((lat1-lat2)/2)\n",
    "    l = math.radians((lng1-lng2)/2)\n",
    "    sf = math.sin(f)\n",
    "    sg = math.sin(g)\n",
    "    sl = math.sin(l)\n",
    "    sg = sg * sg\n",
    "    sl = sl * sl\n",
    "    sf = sf * sf\n",
    "\n",
    "    s = sg * (1 - sl)+(1 - sf) * sl\n",
    "    c = (1 - sg) * (1 - sl) + sf * sl\n",
    "\n",
    "    w = math.atan(math.sqrt(s / c))\n",
    "    r = math.sqrt(s * c) / w\n",
    "    d = 2 * w * ra\n",
    "    h1 = (3 * r - 1) / 2 / c\n",
    "    h2 = (3 * r + 1) / 2 / s\n",
    "\n",
    "    return d * (1 + flatten * (h1 * sf * (1 - sg) - h2 * (1 - sf) * sg))"
   ]
  },
  {
   "cell_type": "code",
   "execution_count": 3,
   "id": "42af7b43-515b-42ce-a77d-dfd84fea2665",
   "metadata": {},
   "outputs": [],
   "source": [
    "'''\n",
    "* 对百度地图API提供的经纬度格式转化，最终转为WGS-84\n",
    "* 坐标信息说明：https://lbsyun.baidu.com/skins/MySkin/resources/iframs/coordinate.html?update\n",
    "'''\n",
    "def _transformlat(coordinates):\n",
    "    lng = coordinates[ : , 0] - 105\n",
    "    lat = coordinates[ : , 1] - 35\n",
    "    ret = -100 + 2 * lng + 3 * lat + 0.2 * lat * lat + \\\n",
    "          0.1 * lng * lat + 0.2 * np.sqrt(np.fabs(lng))\n",
    "    ret += (20 * np.sin(6 * lng * PI) + 20 *\n",
    "            np.sin(2 * lng * PI)) * 2 / 3\n",
    "    ret += (20 * np.sin(lat * PI) + 40 *\n",
    "            np.sin(lat / 3 * PI)) * 2 / 3\n",
    "    ret += (160 * np.sin(lat / 12 * PI) + 320 *\n",
    "            np.sin(lat * PI / 30.0)) * 2 / 3\n",
    "    return ret\n",
    "\n",
    "def _transformlng(coordinates):\n",
    "    lng = coordinates[ : , 0] - 105\n",
    "    lat = coordinates[ : , 1] - 35\n",
    "    ret = 300 + lng + 2 * lat + 0.1 * lng * lng + \\\n",
    "          0.1 * lng * lat + 0.1 * np.sqrt(np.fabs(lng))\n",
    "    ret += (20 * np.sin(6 * lng * PI) + 20 *\n",
    "            np.sin(2 * lng * PI)) * 2 / 3\n",
    "    ret += (20 * np.sin(lng * PI) + 40 *\n",
    "            np.sin(lng / 3 * PI)) * 2 / 3\n",
    "    ret += (150 * np.sin(lng / 12 * PI) + 300 *\n",
    "            np.sin(lng / 30 * PI)) * 2 / 3\n",
    "    return ret\n",
    "\n",
    "def gcj02_to_wgs84(coordinates):\n",
    "    \"\"\"\n",
    "    GCJ-02转WGS-84\n",
    "    :param coordinates: GCJ-02坐标系的经度和纬度的numpy数组\n",
    "    :returns: WGS-84坐标系的经度和纬度的numpy数组\n",
    "    \"\"\"\n",
    "    ee = 0.006693421622965943  # 偏心率平方\n",
    "    a = 6378245  # 长半轴\n",
    "    lng = coordinates[ : , 0]\n",
    "    lat = coordinates[ : , 1]\n",
    "    is_in_china = (lng > 73.66) & (lng < 135.05) & (lat > 3.86) & (lat < 53.55)\n",
    "    _transform = coordinates[is_in_china]  #只对不在国内的坐标做偏移\n",
    "    \n",
    "    dlat = _transformlat(_transform)\n",
    "    dlng = _transformlng(_transform)\n",
    "    radlat = _transform[ : , 1] / 180 * PI\n",
    "    magic = np.sin(radlat)\n",
    "    magic = 1 - ee * magic * magic\n",
    "    sqrtmagic = np.sqrt(magic)\n",
    "    dlat = (dlat * 180.0) / ((a * (1 - ee)) / (magic * sqrtmagic) * PI)\n",
    "    dlng = (dlng * 180.0) / (a / sqrtmagic * np.cos(radlat) * PI)\n",
    "    mglat = _transform[ : , 1] + dlat\n",
    "    mglng = _transform[ : , 0] + dlng\n",
    "    coordinates[is_in_china] = np.array([_transform[ : , 0] * 2 - mglng, _transform[ : , 1] * 2 - mglat]).T\n",
    "    return coordinates\n",
    "\n",
    "def bd09_to_gcj02(coordinates):\n",
    "    \"\"\"\n",
    "    BD-09转GCJ-02\n",
    "    :param coordinates: BD-09坐标系的经度和纬度的numpy数组\n",
    "    :returns: GCJ-02坐标系的经度和纬度的numpy数组\n",
    "    \"\"\"\n",
    "    x_pi = PI * 3000 / 180\n",
    "    x = coordinates[ : , 0] - 0.0065\n",
    "    y = coordinates[ : , 1] - 0.006\n",
    "    z = np.sqrt(x * x + y * y) - 0.00002 * np.sin(y * x_pi)\n",
    "    theta = np.arctan2(y, x) - 0.000003 * np.cos(x * x_pi)\n",
    "    lng = z * np.cos(theta)\n",
    "    lat = z * np.sin(theta)\n",
    "    coordinates = np.array([lng, lat]).T\n",
    "    return coordinates\n",
    "\n",
    "def bd09_to_wgs84(coordinates):\n",
    "    \"\"\"\n",
    "    BD-09转WGS-84\n",
    "    :param coordinates: BD-09坐标系的经度和纬度的numpy数组\n",
    "    :returns: WGS-84坐标系的经度和纬度的numpy数组\n",
    "    \"\"\"\n",
    "    return gcj02_to_wgs84(bd09_to_gcj02(coordinates))\n",
    "\n",
    "def mercator_to_bd09(mercator):\n",
    "    \"\"\"\n",
    "    墨卡托转BD-09\n",
    "    :param coordinates: GCJ-02坐标系的经度和纬度的numpy数组\n",
    "    :returns: WGS-84坐标系的经度和纬度的numpy数组\n",
    "    \"\"\"\n",
    "    MCBAND = [12890594.86, 8362377.87, 5591021, 3481989.83, 1678043.12, 0]\n",
    "    MC2LL = [[1.410526172116255e-08,   8.98305509648872e-06,    -1.9939833816331,        200.9824383106796,       -187.2403703815547,\n",
    "                 91.6087516669843,        -23.38765649603339,      2.57121317296198,        -0.03801003308653,       17337981.2],\n",
    "            [-7.435856389565537e-09,  8.983055097726239e-06,   -0.78625201886289,       96.32687599759846,       -1.85204757529826,\n",
    "                 -59.36935905485877,      47.40033549296737,       -16.50741931063887,      2.28786674699375,        10260144.86],\n",
    "            [-3.030883460898826e-08,  8.98305509983578e-06,    0.30071316287616,        59.74293618442277,       7.357984074871,\n",
    "                 -25.38371002664745,      13.45380521110908,       -3.29883767235584,       0.32710905363475,        6856817.37],\n",
    "            [-1.981981304930552e-08,  8.983055099779535e-06,   0.03278182852591,        40.31678527705744,       0.65659298677277,\n",
    "                 -4.44255534477492,       0.85341911805263,        0.12923347998204,        -0.04625736007561,       4482777.06], \n",
    "            [3.09191371068437e-09,    8.983055096812155e-06,   6.995724062e-05,         23.10934304144901,       -0.00023663490511,\n",
    "                 -0.6321817810242,        -0.00663494467273,       0.03430082397953,        -0.00466043876332,       2555164.4],  \n",
    "            [2.890871144776878e-09,   8.983055095805407e-06,   -3.068298e-08,           7.47137025468032,        -3.53937994e-06,\n",
    "                 -0.02145144861037,       -1.234426596e-05,        0.00010322952773,        -3.23890364e-06,         826088.5]]   \n",
    "    \n",
    "    x = np.abs(mercator[ : , 0])\n",
    "    y = np.abs(mercator[ : , 1])\n",
    "    coef = np.array([MC2LL[index] for index in (np.tile(y.reshape((-1, 1)), (1, 6)) < MCBAND).sum(axis=1)])   \n",
    "    return converter(x, y, coef)\n",
    "\n",
    "def converter(x, y, coef):\n",
    "    x_temp = coef[ : ,0] + coef[ : ,1] * np.abs(x)\n",
    "    x_n = np.abs(y) / coef[ : ,9]\n",
    "    y_temp = coef[ : ,2] + coef[ : ,3] * x_n + coef[ : ,4] * x_n ** 2 + coef[ : ,5] * x_n ** 3 + coef[ : ,6] * x_n ** 4 + coef[ : ,7] * x_n ** 5 + coef[ : ,8] * x_n ** 6\n",
    "    x[x < 0] = -1\n",
    "    x[x >= 0] = 1\n",
    "    y[y < 0] = -1\n",
    "    y[y >= 0] = 1    \n",
    "    x_temp *= x\n",
    "    y_temp *= y\n",
    "    coordinates = np.array([x_temp, y_temp]).T\n",
    "    \n",
    "    return coordinates\n",
    "\n",
    "\n",
    "\n",
    "def format_lng_lat(data1, data2):\n",
    "    '''\n",
    "    将数据转为{\"(0,1)\":\"lng\":{},\"lat\":{}}格式\n",
    "    '''\n",
    "    result = {}\n",
    "    \n",
    "    for i in range(len(data2) - 1):\n",
    "        start_node = data2[i]\n",
    "        end_node = data2[i + 1]\n",
    "        lngs = []\n",
    "        lats = []\n",
    "        \n",
    "        for point in data1:\n",
    "            if (point[0] >= start_node[0] and point[0] <= end_node[0]) or \\\n",
    "               (point[0] <= start_node[0] and point[0] >= end_node[0]):\n",
    "                if (point[1] >= min(start_node[1], end_node[1]) and point[1] <= max(start_node[1], end_node[1])) or \\\n",
    "                   (point[1] <= min(start_node[1], end_node[1]) and point[1] >= max(start_node[1], end_node[1])):\n",
    "                    lngs.append(point[0])\n",
    "                    lats.append(point[1])\n",
    "                    \n",
    "        result[f\"({i},{i+1})\"] = {\"lng\": lngs, \"lat\": lats}\n",
    "    \n",
    "    return result"
   ]
  },
  {
   "cell_type": "code",
   "execution_count": 11,
   "id": "4513fe07-8def-434f-9c6a-aefae84b98bf",
   "metadata": {
    "scrolled": true
   },
   "outputs": [],
   "source": [
    "# 以可视化形式运行\n",
    "if __name__ == '__main__':\n",
    "    mapbox_access_token =\"pk.eyJ1IjoibHVrYXNtYXJ0aW5lbGxpIiwiYSI6ImNpem85dmhwazAyajIyd284dGxhN2VxYnYifQ.HQCmyhEXZUTz3S98FMrVAQ\"\n",
    "    layout = go.Layout(\n",
    "        autosize=True,\n",
    "        hovermode='closest',\n",
    "        mapbox=dict(\n",
    "            accesstoken=mapbox_access_token,\n",
    "            bearing=0,\n",
    "            center=dict(\n",
    "                lat= 23.12864583, #广州市纬度\n",
    "                lon= 113.2648325 #广州市经度\n",
    "                #lat= 22.547, #深圳维度\n",
    "                #lon= 114.085947 #深圳经度\n",
    "            ),\n",
    "            pitch=0,\n",
    "            zoom=10\n",
    "        ),\n",
    "    )\n",
    "\n",
    "    null = None\n",
    "    city_code = 257 #广州的城市编号\n",
    "    #city_code = 340 #深圳的城市编号，城市编号表：https://blog.csdn.net/weixin_40191474/article/details/105686552\n",
    "    station_info = requests.get('http://map.baidu.com/?qt=bsi&c=%s&t=%s' % (\n",
    "                        city_code, \n",
    "                        int(time.time() * 1000)\n",
    "                   )\n",
    "    )\n",
    "    station_info_json = eval(station_info.content)\n",
    "    \n",
    "    data = []\n",
    "    marked = set()\n",
    "    for railway in station_info_json['content']:\n",
    "        uid = railway['line_uid']\n",
    "        if uid in marked: #由于线路包括了来回两个方向，排除已绘制线路的反向线路\n",
    "            continue\n",
    "\n",
    "        headers = {\"User-Agent\": \"Mozilla/5.0 (Windows NT 6.1; Win64; x64) AppleWebKit/537.36 (KHTML, like Gecko) Chrome/72.0.3626.119 Safari/537.36\"}\n",
    "        railway_json = requests.get('https://map.baidu.com/?qt=bsl&tps=&newmap=1&uid=%s&c=%s' % (uid, city_code), headers=headers)\n",
    "        railway_json =  json.loads(railway_json.content) \n",
    "        \n",
    "        trace_mercator = np.array(\n",
    "            # 取出线路信息字典，以“|”划分后，取出第三部分信息，去掉末尾的“;”,获取墨卡托坐标序列\n",
    "            railway_json['content'][0]['geo'].split('|')[2][ : -1].split(','), \n",
    "            dtype=float\n",
    "        ).reshape((-1, 2)) \n",
    "        \n",
    "        trace_coordinates = bd09_to_wgs84(mercator_to_bd09(trace_mercator))\n",
    "            \n",
    "        plots = [] #站台墨卡托坐标\n",
    "        plots_name = [] #站台名称\n",
    "        for plot in railway['stops']:\n",
    "            plots.append([plot['x'], plot['y']])\n",
    "            plots_name.append(plot['name'])\n",
    "        plot_mercator = np.array(plots)\n",
    "        plot_coordinates = bd09_to_wgs84(mercator_to_bd09(plot_mercator)) #站台经纬度\n",
    "       \n",
    "        color = railway_json['content'][0]['line_color'] #利用json所给线路的颜色 # 425492\n",
    "        \n",
    "        data.extend([\n",
    "            # 地铁路线\n",
    "            go.Scattermapbox(\n",
    "                lon=trace_coordinates[:, 0], #路线点经度\n",
    "                lat=trace_coordinates[:, 1], #路线点纬度\n",
    "                mode='lines',\n",
    "                # 设置路线的参数\n",
    "                line=go.scattermapbox.Line(\n",
    "                    width=2,\n",
    "                    color=color\n",
    "                ),         \n",
    "                name=railway['line_name'], #线路名称，显示在图例（legend）上\n",
    "                legendgroup=railway['line_name']\n",
    "            ),\n",
    "            \n",
    "            # 地铁站台\n",
    "            go.Scattermapbox(\n",
    "                lon=plot_coordinates[:, 0], #站台经度\n",
    "                lat=plot_coordinates[:, 1], #站台纬度\n",
    "                mode='markers',   \n",
    "                text=plots_name,\n",
    "                # 设置标记点的参数\n",
    "                marker=go.scattermapbox.Marker(\n",
    "                    size=10,\n",
    "                    color=color\n",
    "                ),\n",
    "                name=railway['line_name'], #线路名称，显示在图例（legend）及鼠标悬浮在标记点时的路线名上\n",
    "                legendgroup=railway['line_name'], #设置与路线同组，当隐藏该路线时隐藏标记点\n",
    "                showlegend=False #不显示图例（legend)\n",
    "            )\n",
    "        ])\n",
    "            \n",
    "        marked.add(uid) #添加已绘制线路的uid\n",
    "        marked.add(railway['pair_line_uid']) #添加已绘制线路反向线路的uid\n",
    "\n",
    "    fig = dict(data=data, layout=layout)\n",
    "    #py.iplot(fig) #直接显示地图\n",
    "    py.plot(fig, filename='Guangzhou_railway.html') #生成html文件并打开"
   ]
  },
  {
   "cell_type": "code",
   "execution_count": 15,
   "id": "f8a7c622-ea94-4a48-86ab-e3d3cefaad7e",
   "metadata": {},
   "outputs": [
    {
     "name": "stderr",
     "output_type": "stream",
     "text": [
      "  2%|█▊                                                                                 | 1/46 [00:00<00:17,  2.53it/s]"
     ]
    },
    {
     "name": "stdout",
     "output_type": "stream",
     "text": [
      "广清城际线(花都-清城)\n",
      "['花都', '乐同', '狮岭', '银盏', '龙塘镇', '清城']\n"
     ]
    },
    {
     "name": "stderr",
     "output_type": "stream",
     "text": [
      "  7%|█████▍                                                                             | 3/46 [00:00<00:10,  4.11it/s]"
     ]
    },
    {
     "name": "stdout",
     "output_type": "stream",
     "text": [
      "黄埔有轨电车1号线(地铁香雪-新丰路)\n",
      "['地铁香雪', '区少年宫(萝岗)', '线坑', '市民广场', '会议中心', '地铁水西', '峻泰路', '水西(有轨)', '北师大实验学校', '地铁长平', '羌洞', '长岭居小学', '岭头', '干部健康中心', '岭头东', '贤江西', '贤江公园', '贤江', '新丰路']\n"
     ]
    },
    {
     "name": "stderr",
     "output_type": "stream",
     "text": [
      "  9%|███████▏                                                                           | 4/46 [00:01<00:12,  3.40it/s]"
     ]
    },
    {
     "name": "stdout",
     "output_type": "stream",
     "text": [
      "海珠有轨电车1号线(万胜围-广州塔)\n",
      "['万胜围', '琶洲塔', '琶洲大桥南', '会展东', '会展中', '会展西', '南风', '琶醍', '猎德大桥南', '广州塔东', '广州塔']\n"
     ]
    },
    {
     "name": "stderr",
     "output_type": "stream",
     "text": [
      " 13%|██████████▊                                                                        | 6/46 [00:01<00:09,  4.12it/s]"
     ]
    },
    {
     "name": "stdout",
     "output_type": "stream",
     "text": [
      "地铁22号线(番禺广场-陈头岗)\n",
      "['番禺广场', '市广路', '广州南站', '陈头岗']\n"
     ]
    },
    {
     "name": "stderr",
     "output_type": "stream",
     "text": [
      " 17%|██████████████▍                                                                    | 8/46 [00:01<00:08,  4.47it/s]"
     ]
    },
    {
     "name": "stdout",
     "output_type": "stream",
     "text": [
      "佛山地铁2号线(广州南站-南庄)\n",
      "['广州南站', '林岳东', '林岳西', '石洲', '仙涌', '花卉世界', '登洲', '湾华', '石梁', '魁奇路', '沙岗', '石湾', '张槎', '智慧新城', '绿岛湖', '湖涌', '南庄']\n"
     ]
    },
    {
     "name": "stderr",
     "output_type": "stream",
     "text": [
      " 20%|████████████████▏                                                                  | 9/46 [00:02<00:09,  3.87it/s]"
     ]
    },
    {
     "name": "stdout",
     "output_type": "stream",
     "text": [
      "地铁18号线(冼村-万顷沙)\n",
      "['冼村', '磨碟沙', '龙潭', '沙溪', '南村万博', '番禺广场', '横沥', '万顷沙']\n"
     ]
    },
    {
     "name": "stderr",
     "output_type": "stream",
     "text": [
      " 22%|█████████████████▊                                                                | 10/46 [00:02<00:10,  3.44it/s]"
     ]
    },
    {
     "name": "stdout",
     "output_type": "stream",
     "text": [
      "地铁9号线(飞鹅岭-高增)\n",
      "['飞鹅岭', '花都汽车城', '广州北站', '花城路', '花果山公园', '花都广场', '马鞍山公园', '莲塘', '清布', '清塘', '高增']\n"
     ]
    },
    {
     "name": "stderr",
     "output_type": "stream",
     "text": [
      " 24%|███████████████████▌                                                              | 11/46 [00:03<00:10,  3.20it/s]"
     ]
    },
    {
     "name": "stdout",
     "output_type": "stream",
     "text": [
      "地铁8号线(滘心-万胜围)\n",
      "['滘心', '亭岗', '石井', '小坪', '石潭', '聚龙', '上步', '同德', '鹅掌坦', '西村', '彩虹桥', '陈家祠', '华林寺', '文化公园', '同福西', '凤凰新村', '沙园', '宝岗大道', '昌岗', '晓港', '中大', '鹭江', '客村', '赤岗', '磨碟沙', '新港东', '琶洲', '万胜围']\n"
     ]
    },
    {
     "name": "stderr",
     "output_type": "stream",
     "text": [
      " 28%|███████████████████████▏                                                          | 13/46 [00:03<00:08,  3.75it/s]"
     ]
    },
    {
     "name": "stdout",
     "output_type": "stream",
     "text": [
      "地铁7号线(美的大道-燕山)\n",
      "['美的大道', '北滘公园', '美的', '南涌', '锦龙', '陈村', '陈村北', '大洲', '广州南站', '石壁', '谢村', '钟村', '汉溪长隆', '南村万博', '员岗', '板桥', '大学城南', '深井', '长洲', '洪圣沙', '裕丰围', '大沙东', '姬堂', '加庄', '科丰路', '萝岗', '水西', '燕山']\n"
     ]
    },
    {
     "name": "stderr",
     "output_type": "stream",
     "text": [
      " 30%|████████████████████████▉                                                         | 14/46 [00:03<00:09,  3.41it/s]"
     ]
    },
    {
     "name": "stdout",
     "output_type": "stream",
     "text": [
      "地铁6号线(香雪-浔峰岗)\n",
      "['香雪', '萝岗', '苏元', '暹岗', '金峰', '黄陂', '高塘石', '柯木塱', '龙洞', '植物园', '长湴', '天河客运站', '燕塘', '天平架', '沙河', '沙河顶', '黄花岗', '区庄', '东山口', '东湖', '团一大广场', '北京路', '海珠广场', '一德路', '文化公园', '黄沙', '如意坊', '坦尾', '河沙', '沙贝', '横沙', '浔峰岗']\n"
     ]
    },
    {
     "name": "stderr",
     "output_type": "stream",
     "text": [
      " 35%|████████████████████████████▌                                                     | 16/46 [00:04<00:07,  3.89it/s]"
     ]
    },
    {
     "name": "stdout",
     "output_type": "stream",
     "text": [
      "地铁5号线(滘口-黄埔新港)\n",
      "['滘口', '坦尾', '中山八', '西场', '西村', '广州火车站', '小北', '淘金', '区庄', '动物园', '杨箕', '五羊邨', '珠江新城', '猎德', '潭村', '员村', '科韵路', '车陂南', '东圃', '三溪', '鱼珠', '大沙地', '大沙东', '文冲', '双沙', '庙头', '夏园', '保盈大道', '夏港', '黄埔新港']\n"
     ]
    },
    {
     "name": "stderr",
     "output_type": "stream",
     "text": [
      " 37%|██████████████████████████████▎                                                   | 17/46 [00:04<00:08,  3.51it/s]"
     ]
    },
    {
     "name": "stdout",
     "output_type": "stream",
     "text": [
      "地铁4号线(黄村-南沙客运港)\n",
      "['黄村', '车陂', '车陂南', '万胜围', '官洲', '大学城北', '大学城南', '新造', '官桥', '石碁', '海傍', '低涌', '东涌', '庆盛', '黄阁汽车城', '黄阁', '蕉门', '金洲', '飞沙角', '广隆', '大涌', '塘坑', '南横', '南沙客运港']\n"
     ]
    },
    {
     "name": "stderr",
     "output_type": "stream",
     "text": [
      " 39%|████████████████████████████████                                                  | 18/46 [00:05<00:08,  3.19it/s]"
     ]
    },
    {
     "name": "stdout",
     "output_type": "stream",
     "text": [
      "地铁3号线(天河客运站-番禺广场)\n",
      "['天河客运站', '五山', '华师', '岗顶', '石牌桥', '体育西路', '珠江新城', '广州塔', '客村', '大塘', '沥滘', '厦滘', '大石', '汉溪长隆', '市桥', '番禺广场']\n"
     ]
    },
    {
     "name": "stderr",
     "output_type": "stream",
     "text": [
      " 41%|█████████████████████████████████▊                                                | 19/46 [00:05<00:08,  3.02it/s]"
     ]
    },
    {
     "name": "stdout",
     "output_type": "stream",
     "text": [
      "地铁2号线(广州南站-嘉禾望岗)\n",
      "['广州南站', '石壁', '会江', '南浦', '洛溪', '南洲', '东晓南', '江泰路', '昌岗', '江南西', '市二宫', '海珠广场', '公园前', '纪念堂', '越秀公园', '广州火车站', '三元里', '飞翔公园', '白云公园', '白云文化广场', '萧岗', '江夏', '黄边', '嘉禾望岗']\n"
     ]
    },
    {
     "name": "stderr",
     "output_type": "stream",
     "text": [
      " 43%|███████████████████████████████████▋                                              | 20/46 [00:05<00:08,  2.92it/s]"
     ]
    },
    {
     "name": "stdout",
     "output_type": "stream",
     "text": [
      "地铁21号线(增城广场-员村)\n",
      "['增城广场', '钟岗', '山田', '朱村', '凤岗', '坑贝', '中新', '镇龙', '镇龙西', '金坑', '长平', '水西', '苏元', '科学城', '神舟路', '天河智慧城', '大观南路', '黄村', '棠东', '天河公园', '员村']\n"
     ]
    },
    {
     "name": "stderr",
     "output_type": "stream",
     "text": [
      " 46%|█████████████████████████████████████▍                                            | 21/46 [00:06<00:08,  2.85it/s]"
     ]
    },
    {
     "name": "stdout",
     "output_type": "stream",
     "text": [
      "地铁1号线(广州东站-西塱)\n",
      "['广州东站', '体育中心', '体育西路', '杨箕', '东山口', '烈士陵园', '农讲所', '公园前', '西门口', '陈家祠', '长寿路', '黄沙', '芳村', '花地湾', '坑口', '西塱']\n"
     ]
    },
    {
     "name": "stderr",
     "output_type": "stream",
     "text": [
      " 48%|███████████████████████████████████████▏                                          | 22/46 [00:06<00:08,  2.85it/s]"
     ]
    },
    {
     "name": "stdout",
     "output_type": "stream",
     "text": [
      "地铁14号线支线(知识城线)(镇龙-新和)\n",
      "['镇龙', '镇龙北', '汤村', '旺村', '何棠下', '知识城', '枫下', '新南', '红卫', '新和']\n"
     ]
    },
    {
     "name": "stderr",
     "output_type": "stream",
     "text": [
      " 50%|█████████████████████████████████████████                                         | 23/46 [00:06<00:08,  2.80it/s]"
     ]
    },
    {
     "name": "stdout",
     "output_type": "stream",
     "text": [
      "地铁13号线(鱼珠-新沙)\n",
      "['鱼珠', '裕丰围', '双岗', '南海神庙', '夏园', '南岗', '沙村', '白江', '新塘', '官湖', '新沙']\n"
     ]
    },
    {
     "name": "stderr",
     "output_type": "stream",
     "text": [
      " 54%|████████████████████████████████████████████▌                                     | 25/46 [00:07<00:05,  3.63it/s]"
     ]
    },
    {
     "name": "stdout",
     "output_type": "stream",
     "text": [
      "APM线(广州塔-林和西)\n",
      "['广州塔', '海心沙', '大剧院', '花城大道', '妇儿中心', '黄埔大道', '天河南', '体育中心南', '林和西']\n"
     ]
    },
    {
     "name": "stderr",
     "output_type": "stream",
     "text": [
      " 57%|██████████████████████████████████████████████▎                                   | 26/46 [00:07<00:05,  3.35it/s]"
     ]
    },
    {
     "name": "stdout",
     "output_type": "stream",
     "text": [
      "地铁14号线(嘉禾望岗-东风)\n",
      "['嘉禾望岗', '白云东平', '夏良', '太和', '竹料', '钟落潭', '马沥', '新和', '太平', '神岗', '赤草', '从化客运站', '东风']\n"
     ]
    },
    {
     "name": "stderr",
     "output_type": "stream",
     "text": [
      " 63%|███████████████████████████████████████████████████▋                              | 29/46 [00:07<00:03,  4.88it/s]"
     ]
    },
    {
     "name": "stdout",
     "output_type": "stream",
     "text": [
      "广州东环城际线(花都-白云机场北)\n",
      "['花都', '花城街', '花山镇', '白云机场北']\n"
     ]
    },
    {
     "name": "stderr",
     "output_type": "stream",
     "text": [
      " 74%|████████████████████████████████████████████████████████████▌                     | 34/46 [00:08<00:01,  7.71it/s]"
     ]
    },
    {
     "name": "stdout",
     "output_type": "stream",
     "text": [
      "广佛线(新城东-沥滘)\n",
      "['新城东', '东平', '世纪莲', '澜石', '魁奇路', '季华园', '同济路', '祖庙', '普君北路', '朝安', '桂城', '南桂路', '礌岗', '千灯湖', '金融高新区', '龙溪', '菊树', '西塱', '鹤洞', '沙涌', '沙园', '燕岗', '石溪', '南洲', '沥滘']\n"
     ]
    },
    {
     "name": "stderr",
     "output_type": "stream",
     "text": [
      "100%|██████████████████████████████████████████████████████████████████████████████████| 46/46 [00:08<00:00,  5.30it/s]"
     ]
    },
    {
     "name": "stdout",
     "output_type": "stream",
     "text": [
      "地铁3号线北延段(机场北(2号航站楼)-体育西路)\n",
      "['机场北(2号航站楼)', '机场南(1号航站楼)', '高增', '人和', '龙归', '嘉禾望岗', '白云大道北', '永泰', '同和', '京溪南方医院', '梅花园', '燕塘', '广州东站', '林和西', '体育西路']\n"
     ]
    },
    {
     "name": "stderr",
     "output_type": "stream",
     "text": [
      "\n"
     ]
    }
   ],
   "source": [
    "# 以数据组织形式运行\n",
    "if __name__ == '__main__':\n",
    "    null = None\n",
    "    city_code = 257 #广州的城市编号\n",
    "    #city_code = 340 #深圳的城市编号\n",
    "    station_info = requests.get('http://map.baidu.com/?qt=bsi&c=%s&t=%s' % (\n",
    "                        city_code, \n",
    "                        int(time.time() * 1000)\n",
    "                   )\n",
    "    )\n",
    "    \n",
    "    station_info_json = eval(station_info.content)\n",
    "\n",
    "    #with open('shenzhen_station_info.json', 'w', encoding=\"utf-8\") as outfile:\n",
    "    #    json.dump(station_info_json, outfile, ensure_ascii=False, indent=4)\n",
    "\n",
    "    marked = set()\n",
    "    wrs_line_name = []\n",
    "    total_data = {}\n",
    "    metro = []\n",
    "    for railway in tqdm(station_info_json['content']):\n",
    "        uid = railway['line_uid']\n",
    "        if uid in marked: #由于线路包括了来回两个方向，需要排除已绘制线路的反向线路\n",
    "            continue\n",
    "\n",
    "        headers = {\"User-Agent\": \"Mozilla/5.0 (Windows NT 6.1; Win64; x64) AppleWebKit/537.36 (KHTML, like Gecko) Chrome/72.0.3626.119 Safari/537.36\"}\n",
    "        railway_json = requests.get('https://map.baidu.com/?qt=bsl&tps=&newmap=1&uid=%s&c=%s' % (uid, city_code), headers=headers)\n",
    "        \n",
    "        railway_json =  json.loads(railway_json.content) #将json字符串转为python对象\n",
    "\n",
    "        #with open('shenzhen_railway_info.json', 'w', encoding=\"utf-8\") as outfile1:\n",
    "        #    json.dump(railway_json, outfile1, ensure_ascii=False, indent=4)\n",
    "        \n",
    "        trace_mercator = np.array(\n",
    "            # 取出线路信息字典，以“|”划分后，取出第三部分信息，去掉末尾的“;”,获取墨卡托坐标序列\n",
    "            railway_json['content'][0]['geo'].split('|')[2][ : -1].split(','), \n",
    "            dtype=float\n",
    "        ).reshape((-1, 2)) \n",
    "        \n",
    "        trace_coordinates = bd09_to_wgs84(mercator_to_bd09(trace_mercator))\n",
    "            \n",
    "        plots = [] #站台墨卡托坐标\n",
    "        plots_name = [] #站台名称\n",
    "        for plot in railway['stops']:\n",
    "            plots.append([plot['x'], plot['y']])\n",
    "            plots_name.append(plot['name'])\n",
    "        \n",
    "        plot_mercator = np.array(plots)\n",
    "        plot_coordinates = bd09_to_wgs84(mercator_to_bd09(plot_mercator)) #站台经纬度\n",
    "\n",
    "        print(railway['line_name'])\n",
    "        print(plots_name)\n",
    "\n",
    "        # 无法很好处理数字线路和纯文字线路\n",
    "        # metro_num = re.findall(r'\\d+', railway['line_name'])\n",
    "        # if metro_num in metro:\n",
    "        #     lname = \"Line\"+str(re.findall(r'\\d+', railway['line_name'])[0])+\"-1\"\n",
    "        #     metro.append(metro_num)\n",
    "        # if metro_num not in metro:\n",
    "        #     try:\n",
    "        #         lname = \"Line\"+str(re.findall(r'\\d+', railway['line_name'])[0])\n",
    "        #         metro.append(metro_num)\n",
    "        #     except:\n",
    "        #         lname = railway['line_name']\n",
    "        lname = railway['line_name']\n",
    "        wrs_line_name.append(lname)\n",
    "\n",
    "        # Line information\n",
    "        wrs_line_format = format_lng_lat(trace_coordinates, plot_coordinates)\n",
    "        # cal dist\n",
    "        for key_val in range(len(wrs_line_format)):\n",
    "            dist = []\n",
    "            allkey = wrs_line_format[list(wrs_line_format.keys())[key_val]]\n",
    "            for pi in range(len(allkey['lng'])):\n",
    "                distance = vincenty(allkey['lat'][0], allkey['lng'][0], allkey['lat'][pi], allkey['lng'][pi])\n",
    "                dist.append(distance)\n",
    "            allkey['dist']=dist\n",
    "            wrs_line_format[str(list(wrs_line_format.keys())[key_val])] = allkey\n",
    "        \n",
    "        # id2name\n",
    "        wrs_id2name = {str(i): value for i, value in enumerate(plots_name)}\n",
    "        # name2id\n",
    "        wrs_name2id = {value: int(i) for i, value in enumerate(plots_name)}\n",
    "        # center_gps\n",
    "        wrs_center_gps = {str(index): item.tolist() for index, item in enumerate(plot_coordinates)}\n",
    "        # station_num\n",
    "        wrs_station_num = len(plots_name)\n",
    "\n",
    "        wrs_line_format[\"id2name\"] = wrs_id2name,\n",
    "        wrs_line_format[\"name2id\"] = wrs_name2id,\n",
    "        wrs_line_format[\"center_gps\"] = wrs_center_gps,\n",
    "        wrs_line_format[\"station_num\"] = wrs_station_num\n",
    "\n",
    "        total_data[lname] = wrs_line_format\n",
    "\n",
    "        # 去除反方向的路线\n",
    "        marked.add(uid)\n",
    "        marked.add(railway['pair_line_uid'])\n",
    "    \n",
    "    total_data['Line_name'] = wrs_line_name\n",
    "    with open('./guangzhou_Metro.json', 'w', encoding='utf-8') as file:\n",
    "        json.dump(total_data, file, ensure_ascii=False, indent=4)"
   ]
  },
  {
   "cell_type": "code",
   "execution_count": null,
   "id": "fe3c6c99-75cb-4947-9d4f-2fbc6197aab9",
   "metadata": {},
   "outputs": [],
   "source": [
    "# 对四种不同的距离计算函数进行测试\n",
    "# CDMetro中距离为1463.509"
   ]
  },
  {
   "cell_type": "code",
   "execution_count": 7,
   "id": "de0204b2-2768-4069-abe9-96ec76feeeb6",
   "metadata": {},
   "outputs": [
    {
     "data": {
      "text/plain": [
       "1343.6459010525114"
      ]
     },
     "execution_count": 7,
     "metadata": {},
     "output_type": "execute_result"
    }
   ],
   "source": [
    "vincenty(30.710662, 104.089843, 30.701631, 104.080489)"
   ]
  },
  {
   "cell_type": "code",
   "execution_count": 22,
   "id": "e68c2558-512b-420f-ba35-b091c8c6d954",
   "metadata": {},
   "outputs": [
    {
     "data": {
      "text/plain": [
       "1346.2"
      ]
     },
     "execution_count": 22,
     "metadata": {},
     "output_type": "execute_result"
    }
   ],
   "source": [
    "haversine(30.710662, 104.089843, 30.701631, 104.080489)"
   ]
  },
  {
   "cell_type": "code",
   "execution_count": 24,
   "id": "dffde963-ea37-4c30-8617-1942a67f0116",
   "metadata": {},
   "outputs": [
    {
     "data": {
      "text/plain": [
       "1343.6440681528352"
      ]
     },
     "execution_count": 24,
     "metadata": {},
     "output_type": "execute_result"
    }
   ],
   "source": [
    "LL2Dist(30.710662, 104.089843, 30.701631, 104.080489)"
   ]
  },
  {
   "cell_type": "code",
   "execution_count": 26,
   "id": "2a8d3991-16e1-49ee-b523-2070eaf1baa4",
   "metadata": {},
   "outputs": [
    {
     "data": {
      "text/plain": [
       "1343.645748651074"
      ]
     },
     "execution_count": 26,
     "metadata": {},
     "output_type": "execute_result"
    }
   ],
   "source": [
    "FlatternDist(30.710662, 104.089843, 30.701631, 104.080489)"
   ]
  }
 ],
 "metadata": {
  "kernelspec": {
   "display_name": "Python 3 (ipykernel)",
   "language": "python",
   "name": "python3"
  },
  "language_info": {
   "codemirror_mode": {
    "name": "ipython",
    "version": 3
   },
   "file_extension": ".py",
   "mimetype": "text/x-python",
   "name": "python",
   "nbconvert_exporter": "python",
   "pygments_lexer": "ipython3",
   "version": "3.11.5"
  }
 },
 "nbformat": 4,
 "nbformat_minor": 5
}
